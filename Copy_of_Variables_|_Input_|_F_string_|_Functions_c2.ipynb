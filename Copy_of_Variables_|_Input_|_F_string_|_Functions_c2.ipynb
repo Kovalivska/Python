{
  "nbformat": 4,
  "nbformat_minor": 0,
  "metadata": {
    "colab": {
      "provenance": [],
      "toc_visible": true,
      "include_colab_link": true
    },
    "kernelspec": {
      "name": "python3",
      "display_name": "Python 3"
    },
    "language_info": {
      "name": "python"
    }
  },
  "cells": [
    {
      "cell_type": "markdown",
      "metadata": {
        "id": "view-in-github",
        "colab_type": "text"
      },
      "source": [
        "<a href=\"https://colab.research.google.com/github/Kovalivska/Python/blob/Study/Copy_of_Variables_%7C_Input_%7C_F_string_%7C_Functions_c2.ipynb\" target=\"_parent\"><img src=\"https://colab.research.google.com/assets/colab-badge.svg\" alt=\"Open In Colab\"/></a>"
      ]
    },
    {
      "cell_type": "markdown",
      "source": [
        "#**Variables**"
      ],
      "metadata": {
        "id": "G8OZRZ2oaUxK"
      }
    },
    {
      "cell_type": "markdown",
      "source": [
        "**Variable**: A container for a value(string,integer,float,boolean)"
      ],
      "metadata": {
        "id": "FslG8XVIWaRc"
      }
    },
    {
      "cell_type": "code",
      "source": [
        "#create a variable age and assign 28\n",
        "\n",
        "age=28\n",
        "print(age)\n",
        "print('age')"
      ],
      "metadata": {
        "id": "E8KLWJCla4u7",
        "colab": {
          "base_uri": "https://localhost:8080/"
        },
        "outputId": "a1c8b098-541c-468c-9a29-ade98b424b02"
      },
      "execution_count": null,
      "outputs": [
        {
          "output_type": "stream",
          "name": "stdout",
          "text": [
            "28\n",
            "age\n"
          ]
        }
      ]
    },
    {
      "cell_type": "code",
      "source": [
        "#variable to store string\n",
        "first_name=\"John\"\n",
        "food=\"pizza\"\n",
        "print(first_name)\n",
        "print(food )"
      ],
      "metadata": {
        "id": "9k_IQK1lW3Hd",
        "colab": {
          "base_uri": "https://localhost:8080/"
        },
        "outputId": "972c28d9-585f-47df-fd0a-e158b8a9c34b"
      },
      "execution_count": null,
      "outputs": [
        {
          "output_type": "stream",
          "name": "stdout",
          "text": [
            "John\n",
            "pizza\n"
          ]
        }
      ]
    },
    {
      "cell_type": "code",
      "source": [
        "# Integers\n",
        "age=30\n",
        "quantity=250\n",
        "num_of_students=30\n"
      ],
      "metadata": {
        "id": "igTsVM_iYU88"
      },
      "execution_count": null,
      "outputs": []
    },
    {
      "cell_type": "code",
      "source": [
        "#to store floating point\n",
        "price=12.62\n",
        "grade_point=3.4\n",
        "distance=10.5\n",
        "print(price)\n",
        "print(grade_point)\n",
        "print(distance)"
      ],
      "metadata": {
        "id": "jffAg-DaYYJk",
        "colab": {
          "base_uri": "https://localhost:8080/"
        },
        "outputId": "b68f1fea-483a-4ae3-eae3-4a3af783886e"
      },
      "execution_count": null,
      "outputs": [
        {
          "output_type": "stream",
          "name": "stdout",
          "text": [
            "12.62\n",
            "3.4\n",
            "10.5\n"
          ]
        }
      ]
    },
    {
      "cell_type": "code",
      "source": [
        "#to store Boolean\n",
        "is_online=True\n",
        "is_studnet=False\n",
        "print(true)"
      ],
      "metadata": {
        "colab": {
          "base_uri": "https://localhost:8080/",
          "height": 211
        },
        "id": "q7CdaL4tm4mm",
        "outputId": "95d367b4-e419-4d77-f3e7-96db46e9010f"
      },
      "execution_count": null,
      "outputs": [
        {
          "output_type": "error",
          "ename": "NameError",
          "evalue": "name 'true' is not defined",
          "traceback": [
            "\u001b[0;31m---------------------------------------------------------------------------\u001b[0m",
            "\u001b[0;31mNameError\u001b[0m                                 Traceback (most recent call last)",
            "\u001b[0;32m<ipython-input-5-03543c81cc1e>\u001b[0m in \u001b[0;36m<cell line: 4>\u001b[0;34m()\u001b[0m\n\u001b[1;32m      2\u001b[0m \u001b[0mis_online\u001b[0m\u001b[0;34m=\u001b[0m\u001b[0;32mTrue\u001b[0m\u001b[0;34m\u001b[0m\u001b[0;34m\u001b[0m\u001b[0m\n\u001b[1;32m      3\u001b[0m \u001b[0mis_studnet\u001b[0m\u001b[0;34m=\u001b[0m\u001b[0;32mFalse\u001b[0m\u001b[0;34m\u001b[0m\u001b[0;34m\u001b[0m\u001b[0m\n\u001b[0;32m----> 4\u001b[0;31m \u001b[0mprint\u001b[0m\u001b[0;34m(\u001b[0m\u001b[0mtrue\u001b[0m\u001b[0;34m)\u001b[0m\u001b[0;34m\u001b[0m\u001b[0;34m\u001b[0m\u001b[0m\n\u001b[0m",
            "\u001b[0;31mNameError\u001b[0m: name 'true' is not defined"
          ]
        }
      ]
    },
    {
      "cell_type": "code",
      "source": [
        "#to store Boolean\n",
        "is_online=True\n",
        "is_studnet=False\n",
        "\n",
        "print(true)\n",
        "print(is_online)\n",
        "print(is_studnet)"
      ],
      "metadata": {
        "id": "rY-ftw6JYZpP"
      },
      "execution_count": null,
      "outputs": []
    },
    {
      "cell_type": "code",
      "source": [
        "#we can not use key words as varaibles\n",
        "\n",
        "true='print False'\n",
        "print(true)"
      ],
      "metadata": {
        "collapsed": true,
        "id": "9ZnnlrRHgqo2"
      },
      "execution_count": null,
      "outputs": []
    },
    {
      "cell_type": "code",
      "source": [
        "#we can not use variable name which start with number\n",
        "true='is student'\n",
        "print(10true)\n"
      ],
      "metadata": {
        "collapsed": true,
        "id": "Sr41TaJPgqls"
      },
      "execution_count": null,
      "outputs": []
    },
    {
      "cell_type": "code",
      "source": [
        "#we can not use space between varaible names\n",
        "first_number=10\n",
        "print(first_number)\n",
        "\n"
      ],
      "metadata": {
        "collapsed": true,
        "id": "PRILlhC3guHC"
      },
      "execution_count": null,
      "outputs": []
    },
    {
      "cell_type": "code",
      "source": [
        "#Exercise_1\n",
        "#Create variables to store your name, age, and city. Then print the values\n",
        "\n",
        "age=65\n",
        "name='John'\n",
        "city = 'Berlin'\n",
        "print(age)\n",
        "print(name)\n",
        "print(city)\n"
      ],
      "metadata": {
        "id": "b25cpd6Ga4qw"
      },
      "execution_count": null,
      "outputs": []
    },
    {
      "cell_type": "code",
      "source": [
        "#Exercise_2\n",
        "#Create a variable to store a temperature in Celsius.\n",
        "#Convert the temperature to Fahrenheit using the formula: F = (C * 9/5) + 32\n",
        "\n",
        "Fahrenheit=(celsius_temp*9/5)+32\n",
        "celsius_temp=25\n",
        "print(Fahrenheit)"
      ],
      "metadata": {
        "id": "GGF-lx2ka4iK"
      },
      "execution_count": null,
      "outputs": []
    },
    {
      "cell_type": "code",
      "source": [
        "#Exercise_3\n",
        "#Create variables to store the length and width of a rectangle.\n",
        "length=5\n",
        "width=7\n",
        "area_rectangle=length*width\n",
        "perimeter_rectangle=2*(length+width)\n",
        "print(area_rectangle)\n",
        "print(perimeter_rectangle)\n",
        "print(f'the area {area_rectangle} and perimeter {perimeter_rectangle} of the rectangle')\n",
        "#Calculate the area and perimeter of the rectangle.\n",
        "\n",
        "\n",
        "\n",
        "#Print the results.\n"
      ],
      "metadata": {
        "id": "ReXvFC1mcs6J"
      },
      "execution_count": null,
      "outputs": []
    },
    {
      "cell_type": "markdown",
      "source": [
        "# **User Input**"
      ],
      "metadata": {
        "id": "RFvkjoIQaVMl"
      }
    },
    {
      "cell_type": "code",
      "source": [
        "#getting inout from the user\n",
        "age=int(input())\n",
        "\n",
        "print(age + 20)\n",
        "20"
      ],
      "metadata": {
        "id": "Zsn84o_XRML7"
      },
      "execution_count": null,
      "outputs": []
    },
    {
      "cell_type": "code",
      "source": [
        "from ctypes import BigEndianStructure\n",
        "#Exercise_4\n",
        "#Ask a user to insert thier name and birth year.\n",
        "print('insert your name')\n",
        "name=str(input())\n",
        "print('insert your birth year')\n",
        "birth_year=int(input())\n",
        "age=2024-birth_year\n",
        "\n",
        "\n",
        "#calcualte the age by substracting birth year to current year(2024)\n",
        "print('Hallo, ', name, ', your age is ', age)\n",
        "\n"
      ],
      "metadata": {
        "id": "FPytwo4Ja5fA"
      },
      "execution_count": null,
      "outputs": []
    },
    {
      "cell_type": "code",
      "source": [
        "#Exercise_5\n",
        "#Accept two numbers from user and display the calcualted sum !!!!!!! redo\n",
        "\n",
        "print('Enter the first number:')\n",
        "first_number1=int(input())\n",
        "print('Enter the second number')\n",
        "second_number2=int(input())\n",
        "\n",
        "sum=first_number1+second_number2\n",
        "print('SUM is:',sum)"
      ],
      "metadata": {
        "id": "FGh66XRra5bx",
        "colab": {
          "base_uri": "https://localhost:8080/"
        },
        "outputId": "134c6f1c-0b17-40f3-cb9a-c9a40811046a"
      },
      "execution_count": null,
      "outputs": [
        {
          "output_type": "stream",
          "name": "stdout",
          "text": [
            "Enter the first number:\n",
            "1\n",
            "Enter the second number\n",
            "2\n",
            "SUM is: 3\n"
          ]
        }
      ]
    },
    {
      "cell_type": "code",
      "source": [
        "#Exercise_6!!!!\n",
        "#get the total sales and profit from the user.\n",
        "total_sales=float(input('Enter the total sales:'))\n",
        "total_profit=float(input('Enter the profit:'))\n",
        "\n",
        "#Calculate the profit margin(dividing the profit by the sales and multiplying by 100.)\n",
        "profit_margin=(total_profit/total_sales)*100\n",
        "print('The total sale is:', total_sales)\n",
        "print('The total profit is:', total_profit)\n",
        "print('The profit margin is:', profit_margin, \"%\")\n"
      ],
      "metadata": {
        "id": "sGUjJOVdmIPA",
        "colab": {
          "base_uri": "https://localhost:8080/"
        },
        "outputId": "afa0b71a-da28-4f73-901a-f32c89b555a9"
      },
      "execution_count": null,
      "outputs": [
        {
          "output_type": "stream",
          "name": "stdout",
          "text": [
            "Enter the total sales:120\n",
            "Enter the profit:100\n",
            "The total sale is: 120.0\n",
            "The total profit is: 100.0\n",
            "The profit margin is: 83.33333333333334 %\n"
          ]
        }
      ]
    },
    {
      "cell_type": "markdown",
      "source": [
        "# **F-String**"
      ],
      "metadata": {
        "id": "EKax3ZHdaVhX"
      }
    },
    {
      "cell_type": "code",
      "source": [
        "#Exercise_7\n",
        "#get price and quantity from the user and calculate the total cost\n",
        "\n",
        "unit_price=float(input(\"Enter the price:\"))\n",
        "total_quantity=float(input('Enter the totlal quantity:'))\n",
        "total_cost=unit_price*total_quantity\n",
        "# Use formated string in print statment\n",
        "final_cost=f\"The total cost is USD {total_cost}\"\n",
        "print(final_cost)\n"
      ],
      "metadata": {
        "id": "loPcJHaaa6So",
        "colab": {
          "base_uri": "https://localhost:8080/"
        },
        "outputId": "483b9dbc-cf7d-4742-f195-6afdd1bf70e0"
      },
      "execution_count": null,
      "outputs": [
        {
          "output_type": "stream",
          "name": "stdout",
          "text": [
            "Enter the price:20\n",
            "Enter the totlal quantity:10\n",
            "The total cost is USD 200.0\n"
          ]
        }
      ]
    },
    {
      "cell_type": "code",
      "source": [
        "#Exrcise_8 !!!!\n",
        "#get age and name from the user\n",
        "age1=input(\"Enter your age:\")\n",
        "name2=input(\"Enter your name:\")\n",
        "\n",
        "\n",
        "#use formated string to print (Hello,name! Your are age years old.)\n",
        "# The variables used in the f-string were incorrect. Changed them to age1 and name2.\n",
        "print(f\"Hello, {name2}! You are {age1} year old. \")"
      ],
      "metadata": {
        "colab": {
          "base_uri": "https://localhost:8080/"
        },
        "id": "1M9V0Zoh4cBi",
        "outputId": "7d19e60f-fdc5-472b-a3a0-0e3736a40807"
      },
      "execution_count": 1,
      "outputs": [
        {
          "output_type": "stream",
          "name": "stdout",
          "text": [
            "Enter your age:20\n",
            "Enter your name:30\n",
            "Hello, 30! You are 20 year old. \n"
          ]
        }
      ]
    },
    {
      "cell_type": "code",
      "source": [
        "#Exrcise_8 !!!!\n",
        "#get age and name from the user\n",
        "age1=input(\"Enter your age:\")\n",
        "name2=input(\"Enter your name:\")\n",
        "\n",
        "\n",
        "#use formated string to print (Hello,name! Your are age years old.)\n",
        "print(f\"Hello, {name2}! You are {age1} year old. \")\n"
      ],
      "metadata": {
        "id": "cl0YHGPva6P1"
      },
      "execution_count": null,
      "outputs": []
    },
    {
      "cell_type": "markdown",
      "source": [
        "# **Functions**"
      ],
      "metadata": {
        "id": "v2wt5EwsaV6o"
      }
    },
    {
      "cell_type": "markdown",
      "source": [
        "**Function** = A block of reusable code\n",
        "          and need to place () after the function name to invoke it."
      ],
      "metadata": {
        "id": "sQIzQCIxaf6S"
      }
    },
    {
      "cell_type": "code",
      "source": [
        "#create a function to greet a person by their name\n",
        "def greet():\n",
        "  print(\"Hello\")\n",
        "greet()"
      ],
      "metadata": {
        "id": "yfIZCtUWa3Kh",
        "colab": {
          "base_uri": "https://localhost:8080/"
        },
        "outputId": "0a26e1a7-5079-46da-9e7e-05b302706f81"
      },
      "execution_count": 2,
      "outputs": [
        {
          "output_type": "stream",
          "name": "stdout",
          "text": [
            "Hello\n"
          ]
        }
      ]
    },
    {
      "cell_type": "code",
      "source": [
        "#using return statment\n",
        "def greet():\n",
        "  return \"Hello\"\n",
        "greet()"
      ],
      "metadata": {
        "id": "nATc6I6US3Qr",
        "colab": {
          "base_uri": "https://localhost:8080/",
          "height": 35
        },
        "outputId": "92f4f004-1a3b-441b-c31e-aff9b4c5383a"
      },
      "execution_count": 3,
      "outputs": [
        {
          "output_type": "execute_result",
          "data": {
            "text/plain": [
              "'Hello'"
            ],
            "application/vnd.google.colaboratory.intrinsic+json": {
              "type": "string"
            }
          },
          "metadata": {},
          "execution_count": 3
        }
      ]
    },
    {
      "cell_type": "code",
      "source": [
        "#create a function to greet a person by their name\n"
      ],
      "metadata": {
        "id": "n-m0i9gzGI4_"
      },
      "execution_count": null,
      "outputs": []
    },
    {
      "cell_type": "code",
      "source": [],
      "metadata": {
        "id": "6gZbwYxlcYi4"
      },
      "execution_count": null,
      "outputs": []
    },
    {
      "cell_type": "markdown",
      "source": [
        "return = statment used to end a function and send the resut back to the caller"
      ],
      "metadata": {
        "id": "g5WrQpd6caKq"
      }
    },
    {
      "cell_type": "code",
      "source": [],
      "metadata": {
        "id": "-hxfDxPpdId2"
      },
      "execution_count": null,
      "outputs": []
    },
    {
      "cell_type": "code",
      "source": [],
      "metadata": {
        "id": "8ohmCWJ-dITm"
      },
      "execution_count": null,
      "outputs": []
    },
    {
      "cell_type": "code",
      "source": [
        "#Exercise_9\n",
        "#create a functions which add and substract two number\n",
        "\n",
        "\n",
        "\n",
        "\n",
        "# get input from the user\n",
        "\n",
        "\n",
        "\n",
        "#call the function and print the output\n",
        "\n",
        "\n"
      ],
      "metadata": {
        "id": "sOpGO7SkG2jB"
      },
      "execution_count": null,
      "outputs": []
    },
    {
      "cell_type": "code",
      "source": [
        "#Exercise_10\n",
        "#Building interset calculator\n",
        "#create a function interset calculator\n",
        "\n",
        "\n",
        "\n",
        "#get input from the user\n",
        "\n",
        "\n",
        "\n",
        "\n",
        "#calcualte and print interset for the given principal,rate and time\n",
        "\n",
        "\n"
      ],
      "metadata": {
        "id": "F8s-Yf-jKydh"
      },
      "execution_count": null,
      "outputs": []
    }
  ]
}